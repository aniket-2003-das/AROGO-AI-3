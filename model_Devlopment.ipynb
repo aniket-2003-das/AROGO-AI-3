{
 "cells": [
  {
   "cell_type": "code",
   "execution_count": 97,
   "metadata": {},
   "outputs": [],
   "source": [
    "import pandas as pd\n",
    "import numpy as np\n",
    "from sklearn.model_selection import train_test_split\n",
    "from sklearn.preprocessing import StandardScaler\n",
    "from sklearn.linear_model import LogisticRegression\n",
    "from sklearn.metrics import accuracy_score, precision_score, recall_score, f1_score, roc_auc_score\n",
    "import torch\n",
    "import torch.nn as nn\n",
    "import torch.optim as optim\n",
    "from torch.utils.data import DataLoader, TensorDataset"
   ]
  },
  {
   "cell_type": "code",
   "execution_count": 98,
   "metadata": {},
   "outputs": [],
   "source": [
    "# Load the dataset\n",
    "df = pd.read_csv('final_mental_health_dataset.csv')"
   ]
  },
  {
   "cell_type": "code",
   "execution_count": 99,
   "metadata": {},
   "outputs": [],
   "source": [
    "# Features (X)\n",
    "features = ['gender', 'bmi', 'phq_score', 'gad_score', 'epworth_score', \n",
    "            'depression_severity', 'anxiety_severity', 'suicidal', 'depressiveness', \n",
    "            'anxiousness', 'anxiety_diagnosis', 'sleepiness']\n",
    "X = df[features].copy()"
   ]
  },
  {
   "cell_type": "code",
   "execution_count": 100,
   "metadata": {},
   "outputs": [],
   "source": [
    "# Standardize features\n",
    "scaler = StandardScaler()\n",
    "X = scaler.fit_transform(X)"
   ]
  },
  {
   "cell_type": "code",
   "execution_count": 101,
   "metadata": {},
   "outputs": [],
   "source": [
    "# Targets (y) - The 17 binary conditions\n",
    "conditions = [\n",
    "    'Major Depressive Disorder (MDD)', 'Dysthymia', 'Seasonal Affective Disorder (SAD)', \n",
    "    'Generalized Anxiety Disorder (GAD)', 'Panic Disorder', 'PTSD', \n",
    "    'Insomnia', 'Hypersomnia', 'Sleep Apnea', \n",
    "    'Suicidal Ideation', 'High-Risk Crisis', \n",
    "    'Chronic Stress', 'Adjustment Disorder', 'Burnout'\n",
    "]\n",
    "y = df[conditions].copy()"
   ]
  },
  {
   "cell_type": "code",
   "execution_count": 102,
   "metadata": {},
   "outputs": [],
   "source": [
    "# Train-Test Split\n",
    "X_train, X_test, y_train, y_test = train_test_split(X, y, test_size=0.3, random_state=42)"
   ]
  },
  {
   "cell_type": "code",
   "execution_count": 103,
   "metadata": {},
   "outputs": [],
   "source": [
    "# Convert data to PyTorch tensors\n",
    "X_train_tensor = torch.tensor(X_train, dtype=torch.float32)\n",
    "X_test_tensor = torch.tensor(X_test, dtype=torch.float32)\n",
    "y_train_tensor = torch.tensor(y_train.values, dtype=torch.float32)\n",
    "y_test_tensor = torch.tensor(y_test.values, dtype=torch.float32)"
   ]
  },
  {
   "cell_type": "code",
   "execution_count": 104,
   "metadata": {},
   "outputs": [],
   "source": [
    "# Prepare DataLoader\n",
    "train_data = TensorDataset(X_train_tensor, y_train_tensor)\n",
    "test_data = TensorDataset(X_test_tensor, y_test_tensor)\n",
    "train_loader = DataLoader(train_data, batch_size=64, shuffle=True)\n",
    "test_loader = DataLoader(test_data, batch_size=64, shuffle=False)"
   ]
  },
  {
   "cell_type": "code",
   "execution_count": 105,
   "metadata": {},
   "outputs": [],
   "source": [
    "class NeuralNetwork(nn.Module):\n",
    "    def __init__(self, input_size, output_size):\n",
    "        super(NeuralNetwork, self).__init__()\n",
    "        self.layer1 = nn.Linear(input_size, 128)\n",
    "        self.bn1 = nn.BatchNorm1d(128)\n",
    "        self.layer2 = nn.Linear(128, 64)\n",
    "        self.bn2 = nn.BatchNorm1d(64)\n",
    "        self.output = nn.Linear(64, output_size)\n",
    "        self.dropout = nn.Dropout(0.3)\n",
    "    \n",
    "    def forward(self, x):\n",
    "        x = torch.relu(self.bn1(self.layer1(x)))\n",
    "        x = self.dropout(x)\n",
    "        x = torch.relu(self.bn2(self.layer2(x)))\n",
    "        x = self.dropout(x)\n",
    "        x = self.output(x)  # Remove sigmoid activation\n",
    "        return x\n"
   ]
  },
  {
   "cell_type": "code",
   "execution_count": 106,
   "metadata": {},
   "outputs": [],
   "source": [
    "# Initialize the model, loss function, and optimizer\n",
    "model = NeuralNetwork(X_train.shape[1], y_train.shape[1])  # Output size = number of conditions\n",
    "criterion = nn.BCEWithLogitsLoss()  # Use BCEWithLogitsLoss for multi-label classification\n",
    "optimizer = optim.Adam(model.parameters(), lr=0.0005, weight_decay=0.01)  # L2 Regularization"
   ]
  },
  {
   "cell_type": "code",
   "execution_count": 107,
   "metadata": {},
   "outputs": [],
   "source": [
    "# Learning rate scheduler (optional improvement)\n",
    "scheduler = optim.lr_scheduler.ReduceLROnPlateau(optimizer, 'min', patience=5, factor=0.5)"
   ]
  },
  {
   "cell_type": "code",
   "execution_count": 108,
   "metadata": {},
   "outputs": [],
   "source": [
    "# Train the Neural Network with Early Stopping\n",
    "epochs = 100  # Increased number of epochs\n",
    "patience = 5  # Early stopping patience\n",
    "best_loss = float('inf')\n",
    "patience_counter = 0\n",
    "\n",
    "for epoch in range(epochs):\n",
    "    model.train()\n",
    "    running_loss = 0.0\n",
    "    for X_batch, y_batch in train_loader:\n",
    "        optimizer.zero_grad()\n",
    "        output = model(X_batch)\n",
    "        loss = criterion(output, y_batch)\n",
    "        loss.backward()\n",
    "        optimizer.step()\n",
    "        running_loss += loss.item()\n",
    "    \n",
    "    # Validation loss\n",
    "    model.eval()\n",
    "    val_loss = 0.0\n",
    "    with torch.no_grad():\n",
    "        for X_batch, y_batch in test_loader:\n",
    "            output = model(X_batch)\n",
    "            loss = criterion(output, y_batch)\n",
    "            val_loss += loss.item()\n",
    "    val_loss /= len(test_loader)\n",
    "    \n",
    "    # Early stopping and scheduler\n",
    "    if val_loss < best_loss:\n",
    "        best_loss = val_loss\n",
    "        patience_counter = 0\n",
    "    else:\n",
    "        patience_counter += 1\n",
    "    \n",
    "    scheduler.step(val_loss)  # Step the scheduler"
   ]
  },
  {
   "cell_type": "code",
   "execution_count": 109,
   "metadata": {},
   "outputs": [],
   "source": [
    "# Evaluate the models\n",
    "model.eval()\n",
    "with torch.no_grad():\n",
    "    y_pred = []\n",
    "    for X_batch, _ in test_loader:\n",
    "        output = model(X_batch)  # Output for all conditions\n",
    "        y_pred.append(output)\n",
    "    \n",
    "    y_pred = torch.cat(y_pred).numpy()\n",
    "    y_pred_binary = (y_pred > 0.30).astype(int)  # Convert probabilities to binary predictions"
   ]
  },
  {
   "cell_type": "code",
   "execution_count": 110,
   "metadata": {},
   "outputs": [],
   "source": [
    "# Store results\n",
    "results = []"
   ]
  },
  {
   "cell_type": "code",
   "execution_count": 111,
   "metadata": {},
   "outputs": [
    {
     "name": "stdout",
     "output_type": "stream",
     "text": [
      "Training models for Major Depressive Disorder (MDD)...\n",
      "Training models for Dysthymia...\n",
      "Training models for Seasonal Affective Disorder (SAD)...\n",
      "Training models for Generalized Anxiety Disorder (GAD)...\n",
      "Training models for Panic Disorder...\n",
      "Training models for PTSD...\n",
      "Training models for Insomnia...\n",
      "Training models for Hypersomnia...\n",
      "Training models for Sleep Apnea...\n",
      "Training models for Suicidal Ideation...\n",
      "Training models for High-Risk Crisis...\n",
      "Training models for Chronic Stress...\n",
      "Training models for Adjustment Disorder...\n",
      "Training models for Burnout...\n"
     ]
    }
   ],
   "source": [
    "# Train and evaluate models for each condition\n",
    "for i, condition in enumerate(conditions):\n",
    "    print(f\"Training models for {condition}...\")\n",
    "\n",
    "    # Extract target for the current condition\n",
    "    y_train_cond = y_train_tensor[:, i]  # Extract the i-th condition\n",
    "    y_test_cond = y_test_tensor[:, i]  # Extract the i-th condition\n",
    "    \n",
    "    # Logistic Regression\n",
    "    lr_model = LogisticRegression(max_iter=30, penalty='l2', random_state=42, C=1)\n",
    "    lr_model.fit(X_train, y_train_cond)\n",
    "    lr_pred = lr_model.predict(X_test)\n",
    "    lr_proba = lr_model.predict_proba(X_test)[:, 1]\n",
    "\n",
    "    # Evaluate Logistic Regression\n",
    "    lr_accuracy = accuracy_score(y_test_cond, lr_pred)\n",
    "    lr_precision = precision_score(y_test_cond, lr_pred, zero_division=0)\n",
    "    lr_recall = recall_score(y_test_cond, lr_pred, zero_division=0)\n",
    "    lr_f1 = f1_score(y_test_cond, lr_pred, zero_division=0)\n",
    "    lr_roc_auc = roc_auc_score(y_test_cond, lr_proba)\n",
    "\n",
    "    # Neural Network\n",
    "    nn_accuracy = accuracy_score(y_test_cond, y_pred_binary[:, i])  # Evaluate for current condition\n",
    "    nn_precision = precision_score(y_test_cond, y_pred_binary[:, i], zero_division=0)\n",
    "    nn_recall = recall_score(y_test_cond, y_pred_binary[:, i], zero_division=0)\n",
    "    nn_f1 = f1_score(y_test_cond, y_pred_binary[:, i], zero_division=0)\n",
    "    nn_roc_auc = roc_auc_score(y_test_cond, y_pred[:, i])\n",
    "\n",
    "    # Store results\n",
    "    results.append({\n",
    "        'Condition': condition,\n",
    "        'Logistic Regression Accuracy': lr_accuracy,\n",
    "        'Neural Network Accuracy': nn_accuracy,\n",
    "\n",
    "        'Logistic Regression Precision': lr_precision,\n",
    "        'Neural Network Precision': nn_precision,\n",
    "\n",
    "        'Logistic Regression Recall': lr_recall,\n",
    "        'Neural Network Recall': nn_recall,\n",
    "\n",
    "        'Logistic Regression F1': lr_f1,\n",
    "        'Neural Network F1': nn_f1,\n",
    "\n",
    "        'Logistic Regression ROC-AUC': lr_roc_auc,\n",
    "        'Neural Network ROC-AUC': nn_roc_auc\n",
    "    })"
   ]
  },
  {
   "cell_type": "code",
   "execution_count": 112,
   "metadata": {},
   "outputs": [
    {
     "data": {
      "text/html": [
       "<div>\n",
       "<style scoped>\n",
       "    .dataframe tbody tr th:only-of-type {\n",
       "        vertical-align: middle;\n",
       "    }\n",
       "\n",
       "    .dataframe tbody tr th {\n",
       "        vertical-align: top;\n",
       "    }\n",
       "\n",
       "    .dataframe thead th {\n",
       "        text-align: right;\n",
       "    }\n",
       "</style>\n",
       "<table border=\"1\" class=\"dataframe\">\n",
       "  <thead>\n",
       "    <tr style=\"text-align: right;\">\n",
       "      <th></th>\n",
       "      <th>Condition</th>\n",
       "      <th>Logistic Regression Accuracy</th>\n",
       "      <th>Neural Network Accuracy</th>\n",
       "      <th>Logistic Regression Precision</th>\n",
       "      <th>Neural Network Precision</th>\n",
       "      <th>Logistic Regression Recall</th>\n",
       "      <th>Neural Network Recall</th>\n",
       "      <th>Logistic Regression F1</th>\n",
       "      <th>Neural Network F1</th>\n",
       "      <th>Logistic Regression ROC-AUC</th>\n",
       "      <th>Neural Network ROC-AUC</th>\n",
       "    </tr>\n",
       "  </thead>\n",
       "  <tbody>\n",
       "    <tr>\n",
       "      <th>0</th>\n",
       "      <td>Major Depressive Disorder (MDD)</td>\n",
       "      <td>0.987234</td>\n",
       "      <td>0.978723</td>\n",
       "      <td>0.916667</td>\n",
       "      <td>0.900000</td>\n",
       "      <td>0.846154</td>\n",
       "      <td>0.692308</td>\n",
       "      <td>0.880000</td>\n",
       "      <td>0.782609</td>\n",
       "      <td>0.998614</td>\n",
       "      <td>0.991337</td>\n",
       "    </tr>\n",
       "    <tr>\n",
       "      <th>1</th>\n",
       "      <td>Dysthymia</td>\n",
       "      <td>0.987234</td>\n",
       "      <td>0.987234</td>\n",
       "      <td>0.882353</td>\n",
       "      <td>0.933333</td>\n",
       "      <td>0.937500</td>\n",
       "      <td>0.875000</td>\n",
       "      <td>0.909091</td>\n",
       "      <td>0.903226</td>\n",
       "      <td>0.995148</td>\n",
       "      <td>0.995719</td>\n",
       "    </tr>\n",
       "    <tr>\n",
       "      <th>2</th>\n",
       "      <td>Seasonal Affective Disorder (SAD)</td>\n",
       "      <td>0.948936</td>\n",
       "      <td>0.948936</td>\n",
       "      <td>0.588235</td>\n",
       "      <td>1.000000</td>\n",
       "      <td>0.666667</td>\n",
       "      <td>0.200000</td>\n",
       "      <td>0.625000</td>\n",
       "      <td>0.333333</td>\n",
       "      <td>0.970909</td>\n",
       "      <td>0.975455</td>\n",
       "    </tr>\n",
       "    <tr>\n",
       "      <th>3</th>\n",
       "      <td>Generalized Anxiety Disorder (GAD)</td>\n",
       "      <td>0.995745</td>\n",
       "      <td>0.991489</td>\n",
       "      <td>1.000000</td>\n",
       "      <td>1.000000</td>\n",
       "      <td>0.970588</td>\n",
       "      <td>0.941176</td>\n",
       "      <td>0.985075</td>\n",
       "      <td>0.969697</td>\n",
       "      <td>0.999854</td>\n",
       "      <td>0.999854</td>\n",
       "    </tr>\n",
       "    <tr>\n",
       "      <th>4</th>\n",
       "      <td>Panic Disorder</td>\n",
       "      <td>0.991489</td>\n",
       "      <td>0.982979</td>\n",
       "      <td>1.000000</td>\n",
       "      <td>1.000000</td>\n",
       "      <td>0.857143</td>\n",
       "      <td>0.714286</td>\n",
       "      <td>0.923077</td>\n",
       "      <td>0.833333</td>\n",
       "      <td>1.000000</td>\n",
       "      <td>0.999354</td>\n",
       "    </tr>\n",
       "  </tbody>\n",
       "</table>\n",
       "</div>"
      ],
      "text/plain": [
       "                            Condition  Logistic Regression Accuracy  \\\n",
       "0     Major Depressive Disorder (MDD)                      0.987234   \n",
       "1                           Dysthymia                      0.987234   \n",
       "2   Seasonal Affective Disorder (SAD)                      0.948936   \n",
       "3  Generalized Anxiety Disorder (GAD)                      0.995745   \n",
       "4                      Panic Disorder                      0.991489   \n",
       "\n",
       "   Neural Network Accuracy  Logistic Regression Precision  \\\n",
       "0                 0.978723                       0.916667   \n",
       "1                 0.987234                       0.882353   \n",
       "2                 0.948936                       0.588235   \n",
       "3                 0.991489                       1.000000   \n",
       "4                 0.982979                       1.000000   \n",
       "\n",
       "   Neural Network Precision  Logistic Regression Recall  \\\n",
       "0                  0.900000                    0.846154   \n",
       "1                  0.933333                    0.937500   \n",
       "2                  1.000000                    0.666667   \n",
       "3                  1.000000                    0.970588   \n",
       "4                  1.000000                    0.857143   \n",
       "\n",
       "   Neural Network Recall  Logistic Regression F1  Neural Network F1  \\\n",
       "0               0.692308                0.880000           0.782609   \n",
       "1               0.875000                0.909091           0.903226   \n",
       "2               0.200000                0.625000           0.333333   \n",
       "3               0.941176                0.985075           0.969697   \n",
       "4               0.714286                0.923077           0.833333   \n",
       "\n",
       "   Logistic Regression ROC-AUC  Neural Network ROC-AUC  \n",
       "0                     0.998614                0.991337  \n",
       "1                     0.995148                0.995719  \n",
       "2                     0.970909                0.975455  \n",
       "3                     0.999854                0.999854  \n",
       "4                     1.000000                0.999354  "
      ]
     },
     "execution_count": 112,
     "metadata": {},
     "output_type": "execute_result"
    }
   ],
   "source": [
    "# Convert results to DataFrame\n",
    "results_df = pd.DataFrame(results)\n",
    "results_df.head()"
   ]
  },
  {
   "cell_type": "code",
   "execution_count": 113,
   "metadata": {},
   "outputs": [],
   "source": [
    "import torch\n",
    "import torch.nn.functional as F\n",
    "import joblib\n",
    "import pandas as pd\n",
    "from lime.lime_tabular import LimeTabularExplainer"
   ]
  },
  {
   "cell_type": "code",
   "execution_count": 114,
   "metadata": {},
   "outputs": [
    {
     "data": {
      "text/plain": [
       "NeuralNetwork(\n",
       "  (layer1): Linear(in_features=12, out_features=128, bias=True)\n",
       "  (bn1): BatchNorm1d(128, eps=1e-05, momentum=0.1, affine=True, track_running_stats=True)\n",
       "  (layer2): Linear(in_features=128, out_features=64, bias=True)\n",
       "  (bn2): BatchNorm1d(64, eps=1e-05, momentum=0.1, affine=True, track_running_stats=True)\n",
       "  (output): Linear(in_features=64, out_features=14, bias=True)\n",
       "  (dropout): Dropout(p=0.3, inplace=False)\n",
       ")"
      ]
     },
     "execution_count": 114,
     "metadata": {},
     "output_type": "execute_result"
    }
   ],
   "source": [
    "# Set model to evaluation mode to prevent BatchNorm issues\n",
    "model.eval()"
   ]
  },
  {
   "cell_type": "code",
   "execution_count": 115,
   "metadata": {},
   "outputs": [],
   "source": [
    "# Generate LIME explanations for a sample prediction\n",
    "explainer = LimeTabularExplainer(\n",
    "    training_data=X_train,\n",
    "    feature_names=features,\n",
    "    class_names=conditions,\n",
    "    mode='classification',\n",
    "    discretize_continuous=True,\n",
    "    random_state=42\n",
    ")"
   ]
  },
  {
   "cell_type": "code",
   "execution_count": 116,
   "metadata": {},
   "outputs": [],
   "source": [
    "# Choose a test instance to explain\n",
    "sample_idx = 0\n",
    "instance = X_test[sample_idx]\n",
    "true_labels = y_test.iloc[sample_idx]"
   ]
  },
  {
   "cell_type": "code",
   "execution_count": 117,
   "metadata": {},
   "outputs": [],
   "source": [
    "# Convert instance to tensor and predict\n",
    "instance_tensor = torch.tensor(instance, dtype=torch.float32).unsqueeze(0)\n",
    "with torch.no_grad():\n",
    "    nn_output = model(instance_tensor).numpy()[0]\n",
    "nn_prediction = (nn_output > 0.3).astype(int)\n"
   ]
  },
  {
   "cell_type": "code",
   "execution_count": 118,
   "metadata": {},
   "outputs": [],
   "source": [
    "# LIME prediction function\n",
    "def predict_fn(x):\n",
    "    x_tensor = torch.tensor(x, dtype=torch.float32)\n",
    "    with torch.no_grad():\n",
    "        outputs = model(x_tensor).numpy()\n",
    "        outputs = F.softmax(torch.tensor(outputs), dim=1).numpy()  # Apply softmax for probability outputs\n",
    "    return outputs\n"
   ]
  },
  {
   "cell_type": "code",
   "execution_count": 119,
   "metadata": {},
   "outputs": [],
   "source": [
    "# # Generate explanations for each predicted condition\n",
    "# for i, condition in enumerate(conditions):\n",
    "#     # if nn_prediction[i] == 1:\n",
    "#     exp = explainer.explain_instance(\n",
    "#         instance,\n",
    "#         predict_fn,\n",
    "#         num_features=len(features),\n",
    "#         top_labels=len(conditions),\n",
    "#         labels=(i,)\n",
    "#     )\n",
    "#     exp.save_to_file(f'lime_explanation_{condition}.html')\n"
   ]
  },
  {
   "cell_type": "code",
   "execution_count": 120,
   "metadata": {},
   "outputs": [
    {
     "data": {
      "text/plain": [
       "['scaler.pkl']"
      ]
     },
     "execution_count": 120,
     "metadata": {},
     "output_type": "execute_result"
    }
   ],
   "source": [
    "# Save the trained model\n",
    "torch.save(model.state_dict(), 'mental_health_model.pth')\n",
    "\n",
    "# Save the scaler\n",
    "joblib.dump(scaler, 'scaler.pkl')"
   ]
  },
  {
   "cell_type": "code",
   "execution_count": null,
   "metadata": {},
   "outputs": [],
   "source": []
  },
  {
   "cell_type": "code",
   "execution_count": null,
   "metadata": {},
   "outputs": [],
   "source": []
  },
  {
   "cell_type": "code",
   "execution_count": null,
   "metadata": {},
   "outputs": [],
   "source": []
  },
  {
   "cell_type": "code",
   "execution_count": null,
   "metadata": {},
   "outputs": [],
   "source": []
  },
  {
   "cell_type": "code",
   "execution_count": null,
   "metadata": {},
   "outputs": [],
   "source": []
  }
 ],
 "metadata": {
  "kernelspec": {
   "display_name": "Python 3",
   "language": "python",
   "name": "python3"
  },
  "language_info": {
   "codemirror_mode": {
    "name": "ipython",
    "version": 3
   },
   "file_extension": ".py",
   "mimetype": "text/x-python",
   "name": "python",
   "nbconvert_exporter": "python",
   "pygments_lexer": "ipython3",
   "version": "3.11.9"
  },
  "orig_nbformat": 4
 },
 "nbformat": 4,
 "nbformat_minor": 2
}
